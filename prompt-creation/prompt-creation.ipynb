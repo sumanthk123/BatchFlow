{
 "cells": [
  {
   "cell_type": "code",
   "execution_count": 1,
   "metadata": {},
   "outputs": [],
   "source": [
    "import pandas as pd\n",
    "from sklearn.feature_extraction.text import TfidfVectorizer\n",
    "from sklearn.metrics.pairwise import cosine_similarity"
   ]
  },
  {
   "cell_type": "code",
   "execution_count": 17,
   "metadata": {},
   "outputs": [],
   "source": [
    "def get_relevant_header(data, query=\"prompt\"):\n",
    "    header = data.columns.tolist()\n",
    "    text = [query] + header\n",
    "    vectorizer = TfidfVectorizer()\n",
    "    matrix = vectorizer.fit_transform(text)\n",
    "    print(matrix)\n",
    "    query_vector = matrix[0:1]\n",
    "    header_vectors = matrix[1:]\n",
    "    \n",
    "    similarity = cosine_similarity(query_vector, header_vectors)\n",
    "    print(similarity)\n",
    "    most_similar_index = similarity.argmax()\n",
    "    print(most_similar_index)\n",
    "    return header[most_similar_index]"
   ]
  },
  {
   "cell_type": "code",
   "execution_count": 3,
   "metadata": {},
   "outputs": [
    {
     "name": "stderr",
     "output_type": "stream",
     "text": [
      "/Users/sumanthkalluru/Library/Mobile Documents/com~apple~CloudDocs/Coding/batch-flow/venv/lib/python3.11/site-packages/tqdm/auto.py:21: TqdmWarning: IProgress not found. Please update jupyter and ipywidgets. See https://ipywidgets.readthedocs.io/en/stable/user_install.html\n",
      "  from .autonotebook import tqdm as notebook_tqdm\n"
     ]
    }
   ],
   "source": [
    "df = pd.read_json(\"hf://datasets/shahules786/orca-chat/orca-chat-gpt4-8k.json\")\n"
   ]
  },
  {
   "cell_type": "code",
   "execution_count": 18,
   "metadata": {},
   "outputs": [
    {
     "name": "stdout",
     "output_type": "stream",
     "text": [
      "<Compressed Sparse Row sparse matrix of dtype 'float64'\n",
      "\twith 4 stored elements and shape (4, 4)>\n",
      "  Coords\tValues\n",
      "  (0, 2)\t1.0\n",
      "  (1, 0)\t1.0\n",
      "  (2, 3)\t1.0\n",
      "  (3, 1)\t1.0\n",
      "[[0. 0. 0.]]\n",
      "0\n",
      "conversation\n"
     ]
    }
   ],
   "source": [
    "print(get_relevant_header(df))"
   ]
  },
  {
   "cell_type": "code",
   "execution_count": null,
   "metadata": {},
   "outputs": [],
   "source": []
  }
 ],
 "metadata": {
  "kernelspec": {
   "display_name": "venv",
   "language": "python",
   "name": "python3"
  },
  "language_info": {
   "codemirror_mode": {
    "name": "ipython",
    "version": 3
   },
   "file_extension": ".py",
   "mimetype": "text/x-python",
   "name": "python",
   "nbconvert_exporter": "python",
   "pygments_lexer": "ipython3",
   "version": "3.11.5"
  }
 },
 "nbformat": 4,
 "nbformat_minor": 2
}
