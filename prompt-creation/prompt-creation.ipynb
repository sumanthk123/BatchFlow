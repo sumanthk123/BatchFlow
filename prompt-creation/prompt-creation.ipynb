{
 "cells": [
  {
   "cell_type": "code",
   "execution_count": 6,
   "metadata": {},
   "outputs": [],
   "source": [
    "import pandas as pd\n",
    "from sklearn.feature_extraction.text import TfidfVectorizer\n",
    "from sklearn.metrics.pairwise import cosine_similarity\n",
    "\n",
    "import nltk\n",
    "from nltk.corpus import wordnet"
   ]
  },
  {
   "cell_type": "code",
   "execution_count": 2,
   "metadata": {},
   "outputs": [],
   "source": [
    "def get_relevant_header(data, query=\"prompt\"):\n",
    "    header = data.columns.tolist()\n",
    "    text = [query] + header\n",
    "    vectorizer = TfidfVectorizer()\n",
    "    matrix = vectorizer.fit_transform(text)\n",
    "    print(matrix)\n",
    "    query_vector = matrix[0:1]\n",
    "    header_vectors = matrix[1:]\n",
    "    \n",
    "    similarity = cosine_similarity(query_vector, header_vectors)\n",
    "    print(similarity)\n",
    "    most_similar_index = similarity.argmax()\n",
    "    print(most_similar_index)\n",
    "    return header[most_similar_index]"
   ]
  },
  {
   "cell_type": "code",
   "execution_count": 3,
   "metadata": {},
   "outputs": [
    {
     "name": "stderr",
     "output_type": "stream",
     "text": [
      "/Users/sumanthkalluru/Library/Mobile Documents/com~apple~CloudDocs/Coding/batch-flow/venv/lib/python3.11/site-packages/tqdm/auto.py:21: TqdmWarning: IProgress not found. Please update jupyter and ipywidgets. See https://ipywidgets.readthedocs.io/en/stable/user_install.html\n",
      "  from .autonotebook import tqdm as notebook_tqdm\n"
     ]
    }
   ],
   "source": [
    "df = pd.read_json(\"hf://datasets/shahules786/orca-chat/orca-chat-gpt4-8k.json\")\n"
   ]
  },
  {
   "cell_type": "code",
   "execution_count": 4,
   "metadata": {},
   "outputs": [
    {
     "name": "stdout",
     "output_type": "stream",
     "text": [
      "<Compressed Sparse Row sparse matrix of dtype 'float64'\n",
      "\twith 4 stored elements and shape (4, 4)>\n",
      "  Coords\tValues\n",
      "  (0, 2)\t1.0\n",
      "  (1, 0)\t1.0\n",
      "  (2, 3)\t1.0\n",
      "  (3, 1)\t1.0\n",
      "[[0. 0. 0.]]\n",
      "0\n",
      "conversation\n"
     ]
    }
   ],
   "source": [
    "print(get_relevant_header(df))"
   ]
  },
  {
   "cell_type": "code",
   "execution_count": 42,
   "metadata": {},
   "outputs": [
    {
     "name": "stdout",
     "output_type": "stream",
     "text": [
      "1.0\n"
     ]
    }
   ],
   "source": [
    "def get_closest_meaning(definition):\n",
    "    prompt_synset = wordnet.synsets('prompt')[1]\n",
    "    definition_synset = wordnet.synsets(definition)[0] if isinstance(definition, str) else definition\n",
    "    # print(definition_synset)\n",
    "    similarity = prompt_synset.wup_similarity(definition_synset)\n",
    "    return similarity\n",
    "\n",
    "# Test the function\n",
    "conversation_synset = wordnet.synsets('prompt')[1]\n",
    "print(get_closest_meaning(conversation_synset))"
   ]
  },
  {
   "cell_type": "code",
   "execution_count": 47,
   "metadata": {},
   "outputs": [
    {
     "name": "stdout",
     "output_type": "stream",
     "text": [
      "['conversation', 'source', 'instruction']\n",
      "(computer science) a symbol that appears on the computer screen to indicate that the computer is ready to receive a command\n",
      "0.625\n",
      "the activities of educating or instructing; activities that impart knowledge or skill\n",
      "instruction\n"
     ]
    }
   ],
   "source": [
    "headers = df.columns.tolist()\n",
    "print(headers)\n",
    "\n",
    "prompt_meaning = wordnet.synsets('prompt')[1].definition()\n",
    "print(prompt_meaning)\n",
    "max_similarity = 0\n",
    "max_definition = \"\"\n",
    "max_header = \"\"\n",
    "for header in headers:\n",
    "\n",
    "    for synset in wordnet.synsets(header):\n",
    "        if (get_closest_meaning(synset) > max_similarity):\n",
    "            max_similarity = get_closest_meaning(synset)\n",
    "            max_definition = synset.definition()\n",
    "            max_header = header\n",
    "        # print(header + \": \", get_closest_meaning(synset))\n",
    "# print(get_meaning(\"conversation\"))\n",
    "print(max_similarity)   \n",
    "print(max_definition)\n",
    "print(max_header)"
   ]
  },
  {
   "cell_type": "code",
   "execution_count": 36,
   "metadata": {},
   "outputs": [
    {
     "name": "stdout",
     "output_type": "stream",
     "text": [
      "0.26666666666666666\n"
     ]
    }
   ],
   "source": []
  },
  {
   "cell_type": "code",
   "execution_count": null,
   "metadata": {},
   "outputs": [],
   "source": []
  }
 ],
 "metadata": {
  "kernelspec": {
   "display_name": "venv",
   "language": "python",
   "name": "python3"
  },
  "language_info": {
   "codemirror_mode": {
    "name": "ipython",
    "version": 3
   },
   "file_extension": ".py",
   "mimetype": "text/x-python",
   "name": "python",
   "nbconvert_exporter": "python",
   "pygments_lexer": "ipython3",
   "version": "3.11.5"
  }
 },
 "nbformat": 4,
 "nbformat_minor": 2
}
